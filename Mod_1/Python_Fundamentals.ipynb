{
 "cells": [
  {
   "cell_type": "markdown",
   "metadata": {},
   "source": [
    "# Python Fundamentals \n",
    "\n",
    "_June 23, 2020_\n",
    "\n",
    "Agenda for today:\n",
    "- Functions vs Methods\n",
    "- Iterables and lists\n",
    "- Writing your functions "
   ]
  },
  {
   "cell_type": "markdown",
   "metadata": {},
   "source": [
    "## Part I. Functions vs Methods \n",
    "\n",
    "- What are the differences between functions and methods in Python?"
   ]
  },
  {
   "cell_type": "code",
   "execution_count": null,
   "metadata": {},
   "outputs": [],
   "source": [
    "## example of methods \n",
    "\n",
    "# .title()\n",
    "\n",
    "num = 123\n",
    "\n",
    "num.title()\n",
    "\n",
    "# .lower()\n",
    "\n",
    "# .sorted()"
   ]
  },
  {
   "cell_type": "code",
   "execution_count": null,
   "metadata": {},
   "outputs": [],
   "source": [
    "# string method"
   ]
  },
  {
   "cell_type": "code",
   "execution_count": null,
   "metadata": {},
   "outputs": [],
   "source": [
    "# list methods\n",
    "groceries = None\n",
    "\n",
    "#.append()\n"
   ]
  },
  {
   "cell_type": "code",
   "execution_count": null,
   "metadata": {
    "scrolled": true
   },
   "outputs": [],
   "source": [
    "#.pop()"
   ]
  },
  {
   "cell_type": "code",
   "execution_count": null,
   "metadata": {},
   "outputs": [],
   "source": [
    "# indexing"
   ]
  },
  {
   "cell_type": "code",
   "execution_count": null,
   "metadata": {},
   "outputs": [],
   "source": [
    "# dictionary methods\n",
    "\n",
    "# dictionary indexing"
   ]
  },
  {
   "cell_type": "markdown",
   "metadata": {},
   "source": [
    "## Part II. Iterables and lists "
   ]
  },
  {
   "cell_type": "markdown",
   "metadata": {},
   "source": [
    "#### For Loops "
   ]
  },
  {
   "cell_type": "code",
   "execution_count": null,
   "metadata": {
    "scrolled": true
   },
   "outputs": [],
   "source": [
    "## example of iterating through a collection\n",
    "\n",
    "for item in groceries:\n",
    "    print(item)"
   ]
  },
  {
   "cell_type": "code",
   "execution_count": null,
   "metadata": {},
   "outputs": [],
   "source": [
    "# iterate through the values of the dictionary\n",
    "\n",
    "grocery_price\n",
    "\n",
    "for price in grocery_price.values():\n",
    "    print(price)"
   ]
  },
  {
   "cell_type": "code",
   "execution_count": null,
   "metadata": {},
   "outputs": [],
   "source": [
    "for grocery in grocery_price.keys():\n",
    "    print(grocery)"
   ]
  },
  {
   "cell_type": "code",
   "execution_count": null,
   "metadata": {},
   "outputs": [],
   "source": [
    "# iterate using a for loop "
   ]
  },
  {
   "cell_type": "code",
   "execution_count": null,
   "metadata": {},
   "outputs": [],
   "source": [
    "# iterate through a dictionary "
   ]
  },
  {
   "cell_type": "code",
   "execution_count": null,
   "metadata": {
    "scrolled": true
   },
   "outputs": [],
   "source": [
    "# exercise\n",
    "\n",
    "#iterate through a dictionary and modify the values \n",
    "for item in grocery_price.values():\n",
    "    item = '$'+ str(item)\n",
    "    print(item)"
   ]
  },
  {
   "cell_type": "code",
   "execution_count": null,
   "metadata": {},
   "outputs": [],
   "source": [
    "for key, value in grocery_price.items():\n",
    "    print(key, value)"
   ]
  },
  {
   "cell_type": "code",
   "execution_count": null,
   "metadata": {},
   "outputs": [],
   "source": [
    "for key,value in grocery_price.items():\n",
    "    grocery_price[key] = '$' + str(value)\n",
    "    \n",
    "grocery_price"
   ]
  },
  {
   "cell_type": "markdown",
   "metadata": {},
   "source": [
    "#### While loops "
   ]
  },
  {
   "cell_type": "code",
   "execution_count": null,
   "metadata": {},
   "outputs": [],
   "source": [
    "i = 1\n",
    "while i < 10:\n",
    "    print(i)"
   ]
  },
  {
   "cell_type": "code",
   "execution_count": null,
   "metadata": {
    "scrolled": false
   },
   "outputs": [],
   "source": [
    "i = 1\n",
    "while i < 10:\n",
    "    i += 1\n",
    "    print(i)"
   ]
  },
  {
   "cell_type": "code",
   "execution_count": null,
   "metadata": {
    "scrolled": true
   },
   "outputs": [],
   "source": [
    "i = 1\n",
    "while i < 10:\n",
    "    print(i)\n",
    "    i -= 1\n"
   ]
  },
  {
   "cell_type": "markdown",
   "metadata": {},
   "source": [
    "What does **Break** and **Continue** do in while loops?\n",
    "\n",
    "<img src= 'https://files.realpython.com/media/t.899f357dd948.png' width = 300>"
   ]
  },
  {
   "cell_type": "markdown",
   "metadata": {},
   "source": []
  },
  {
   "cell_type": "code",
   "execution_count": null,
   "metadata": {},
   "outputs": [],
   "source": [
    "# example of break \n",
    "i = 1\n",
    "while i < 10:\n",
    "    i += 1 \n",
    "    if i == 3:\n",
    "        break\n",
    "    print(i)"
   ]
  },
  {
   "cell_type": "code",
   "execution_count": null,
   "metadata": {},
   "outputs": [],
   "source": [
    "# example of continue\n",
    "i = 1\n",
    "while i < 10:\n",
    "    i += 1\n",
    "    if i == 3:\n",
    "        continue\n",
    "    print(i)"
   ]
  },
  {
   "cell_type": "code",
   "execution_count": null,
   "metadata": {},
   "outputs": [],
   "source": [
    "# nested while loops \n",
    "i = 1\n",
    "j = 5\n",
    "while i < 20:\n",
    "    while j < 10: \n",
    "        print(i,j)\n",
    "        i += 1\n",
    "        j += 1\n",
    "        print(i,j)"
   ]
  },
  {
   "cell_type": "code",
   "execution_count": null,
   "metadata": {
    "scrolled": true
   },
   "outputs": [],
   "source": [
    "# exercises \n",
    "\n",
    "# write a program that successively remove last item from collection until it's empty using while loop \n",
    "\n",
    "pets = ['dogs','cats','fish','skink','bunny']\n",
    "\n"
   ]
  },
  {
   "cell_type": "code",
   "execution_count": null,
   "metadata": {
    "scrolled": false
   },
   "outputs": [],
   "source": [
    "pets = ['dogs','cats','fish','skink','bunny']\n",
    "\n",
    "# another methods?"
   ]
  },
  {
   "cell_type": "markdown",
   "metadata": {},
   "source": [
    "## Part III. Write your own functions. \n",
    "\n",
    "Function syntax:\n",
    "\n",
    "`def function_names(args):\n",
    "      expressions\n",
    "      return statement`"
   ]
  },
  {
   "cell_type": "code",
   "execution_count": 39,
   "metadata": {},
   "outputs": [],
   "source": [
    "# functions with no arguments\n",
    "def greetings():\n",
    "    \"\"\"\n",
    "    prints hello\n",
    "    \"\"\"\n",
    "\n",
    "    return print('Hello!')\n",
    "    "
   ]
  },
  {
   "cell_type": "code",
   "execution_count": 40,
   "metadata": {},
   "outputs": [
    {
     "name": "stdout",
     "output_type": "stream",
     "text": [
      "No Python documentation found for 'aabbccdd'.\n",
      "Use help() to get the interactive help utility.\n",
      "Use help(str) for help on the str class.\n",
      "\n"
     ]
    }
   ],
   "source": [
    "# doc strings\n",
    "help(__doc__)"
   ]
  },
  {
   "cell_type": "code",
   "execution_count": 36,
   "metadata": {},
   "outputs": [
    {
     "data": {
      "text/plain": [
       "4"
      ]
     },
     "execution_count": 36,
     "metadata": {},
     "output_type": "execute_result"
    }
   ],
   "source": [
    "# exercise 1\n",
    "\n",
    "myword = 'aabbccdd'\n",
    "def count_repeat(word):\n",
    "    '''\n",
    "    'abba' --> 1\n",
    "    'abcd' --> 0\n",
    "    'aabbccdd'-->4\n",
    "    '''\n",
    "    count=0\n",
    "    length=\"\"\n",
    "    if len(word) > 1:\n",
    "        for i in range(0, len(word)):\n",
    "            if word[i-1] == word[i]:\n",
    "                count += 1\n",
    "    return count\n",
    "count_repeat(myword)\n",
    "# implement a function that counts how many times a string repeats itself "
   ]
  },
  {
   "cell_type": "code",
   "execution_count": 41,
   "metadata": {},
   "outputs": [
    {
     "data": {
      "text/plain": [
       "dict_values([{'age': 5, 'type': 'Pitbull', 'attribute': ['Playful', 'Cheery', 'Hyper']}, {'age': 1, 'type': 'Maine Coon', 'teams': ['Alert', 'Independent', 'Playful']}, {'age': 8, 'type': 'Parrot', 'teams': ['Talkative', 'Independent', 'Cheery']}, {'age': 2, 'type': 'Labrador', 'teams': ['Hyper', 'Playful', 'Energetic']}])"
      ]
     },
     "execution_count": 41,
     "metadata": {},
     "output_type": "execute_result"
    }
   ],
   "source": [
    "# manipulating collections \n",
    "pets = {\n",
    "    'Ginger': {\n",
    "        'age': 5,\n",
    "        'type': 'Pitbull',\n",
    "        'attribute': ['Playful','Cheery','Hyper']\n",
    "    },\n",
    "    'Chloe': {\n",
    "        'age': 1,\n",
    "        'type': 'Maine Coon',\n",
    "        'teams': ['Alert','Independent','Playful']\n",
    "    },\n",
    "    'Chuck Norris': {\n",
    "        'age': 8,\n",
    "        'type': 'Parrot',\n",
    "        'teams': ['Talkative','Independent','Cheery']\n",
    "    },\n",
    "    'Joe Rogan': {\n",
    "        'age': 2,\n",
    "        'type': 'Labrador',\n",
    "        'teams': ['Hyper','Playful','Energetic']\n",
    "    }\n",
    "}\n",
    "pets.values()"
   ]
  },
  {
   "cell_type": "code",
   "execution_count": 83,
   "metadata": {},
   "outputs": [
    {
     "data": {
      "text/plain": [
       "['Ginger', 'Chuck Norris']"
      ]
     },
     "execution_count": 83,
     "metadata": {},
     "output_type": "execute_result"
    }
   ],
   "source": [
    "# create a function that returns the names of pets who is older than x years old\n",
    "\n",
    "# the function should take in a dictionary containing all pet information, \n",
    "# and an integer indicating age you want to compare\n",
    "def pets_older_than(pets_dict, x):\n",
    "    \n",
    "    \"\"\"return a list of name of pets older than x\"\"\"\n",
    "    my_list = []\n",
    "    for key, value in pets.items():\n",
    "        if value['age'] > x:\n",
    "            my_list.append(key)\n",
    "    return my_list\n",
    "pets_older_than(pets, 4)    "
   ]
  },
  {
   "cell_type": "code",
   "execution_count": null,
   "metadata": {},
   "outputs": [],
   "source": [
    "# white a function for names that have x attribute"
   ]
  },
  {
   "cell_type": "code",
   "execution_count": null,
   "metadata": {},
   "outputs": [],
   "source": [
    "# take home exercise - implement whether a function is palindrome\n",
    "\n",
    "# implement a function that checks whether a string is a palindrome \n"
   ]
  },
  {
   "cell_type": "code",
   "execution_count": 80,
   "metadata": {},
   "outputs": [
    {
     "data": {
      "text/plain": [
       "'/Users/binyaminzaetz/Desktop/Flatiron/mod_1/section01/nyc-mhtn-ds-062220-lectures/Mod_1'"
      ]
     },
     "execution_count": 80,
     "metadata": {},
     "output_type": "execute_result"
    }
   ],
   "source": [
    "pwd"
   ]
  },
  {
   "cell_type": "code",
   "execution_count": null,
   "metadata": {},
   "outputs": [],
   "source": [
    "                                                                                                                                                                                                                                                                                                                                                                                                                                                                                                                                                                                                                                                                                                                                                                                                  "
   ]
  }
 ],
 "metadata": {
  "kernelspec": {
   "display_name": "Python 3",
   "language": "python",
   "name": "python3"
  },
  "language_info": {
   "codemirror_mode": {
    "name": "ipython",
    "version": 3
   },
   "file_extension": ".py",
   "mimetype": "text/x-python",
   "name": "python",
   "nbconvert_exporter": "python",
   "pygments_lexer": "ipython3",
   "version": "3.7.6"
  }
 },
 "nbformat": 4,
 "nbformat_minor": 2
}
